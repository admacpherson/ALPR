{
 "cells": [
  {
   "cell_type": "markdown",
   "id": "053e4b5e",
   "metadata": {},
   "source": [
    "<h2>Import</h2>"
   ]
  },
  {
   "cell_type": "code",
   "execution_count": 1,
   "id": "900ca192",
   "metadata": {
    "slideshow": {
     "slide_type": "slide"
    }
   },
   "outputs": [],
   "source": [
    "import matplotlib.pyplot as plt\n",
    "from skimage.io import imread\n",
    "from skimage import measure\n",
    "from skimage.filters import threshold_otsu\n",
    "from skimage.measure import regionprops\n",
    "import matplotlib.patches as patches\n",
    "import numpy as np\n",
    "from skimage.transform import resize\n",
    "from PIL import Image"
   ]
  },
  {
   "cell_type": "markdown",
   "id": "9cb20bdb",
   "metadata": {},
   "source": [
    "<h2>Setup and Variables</h2>"
   ]
  },
  {
   "cell_type": "code",
   "execution_count": 2,
   "id": "95b663bc",
   "metadata": {},
   "outputs": [],
   "source": [
    "images_dir = 'images/'\n",
    "labels_dir = 'labels/'"
   ]
  },
  {
   "cell_type": "code",
   "execution_count": 5,
   "id": "b3d5594e",
   "metadata": {},
   "outputs": [],
   "source": [
    "image_name = '0d877fcf8137cfc5'\n",
    "image = images_dir + image_name + '.jpg'\n",
    "label = labels_dir + image_name + '.txt'"
   ]
  },
  {
   "cell_type": "markdown",
   "id": "759b5a3f",
   "metadata": {},
   "source": [
    "<h2>View Image</h2>\n"
   ]
  },
  {
   "cell_type": "code",
   "execution_count": 4,
   "id": "fb32fdca",
   "metadata": {},
   "outputs": [
    {
     "ename": "FileNotFoundError",
     "evalue": "No such file: '/Users/andrewmacpherson/development/GitHub/ALPR/Image Parsing/images/0d877fcf8137cfc5.jpg'",
     "output_type": "error",
     "traceback": [
      "\u001b[0;31m---------------------------------------------------------------------------\u001b[0m",
      "\u001b[0;31mFileNotFoundError\u001b[0m                         Traceback (most recent call last)",
      "\u001b[0;32m/var/folders/s2/4l6mghkx3073xff1c014mjp40000gn/T/ipykernel_35980/1644920530.py\u001b[0m in \u001b[0;36m<module>\u001b[0;34m\u001b[0m\n\u001b[0;32m----> 1\u001b[0;31m \u001b[0mimage\u001b[0m \u001b[0;34m=\u001b[0m \u001b[0mimread\u001b[0m\u001b[0;34m(\u001b[0m\u001b[0mimage\u001b[0m\u001b[0;34m,\u001b[0m \u001b[0mas_gray\u001b[0m\u001b[0;34m=\u001b[0m\u001b[0;32mTrue\u001b[0m\u001b[0;34m)\u001b[0m\u001b[0;34m\u001b[0m\u001b[0;34m\u001b[0m\u001b[0m\n\u001b[0m\u001b[1;32m      2\u001b[0m \u001b[0mfig\u001b[0m\u001b[0;34m,\u001b[0m \u001b[0max1\u001b[0m \u001b[0;34m=\u001b[0m \u001b[0mplt\u001b[0m\u001b[0;34m.\u001b[0m\u001b[0msubplots\u001b[0m\u001b[0;34m(\u001b[0m\u001b[0;36m1\u001b[0m\u001b[0;34m)\u001b[0m\u001b[0;34m\u001b[0m\u001b[0;34m\u001b[0m\u001b[0m\n\u001b[1;32m      3\u001b[0m \u001b[0max1\u001b[0m\u001b[0;34m.\u001b[0m\u001b[0mimshow\u001b[0m\u001b[0;34m(\u001b[0m\u001b[0mimage\u001b[0m\u001b[0;34m,\u001b[0m \u001b[0mcmap\u001b[0m\u001b[0;34m=\u001b[0m\u001b[0;34m\"gray\"\u001b[0m\u001b[0;34m)\u001b[0m\u001b[0;34m\u001b[0m\u001b[0;34m\u001b[0m\u001b[0m\n\u001b[1;32m      4\u001b[0m \u001b[0mplt\u001b[0m\u001b[0;34m.\u001b[0m\u001b[0mshow\u001b[0m\u001b[0;34m(\u001b[0m\u001b[0;34m)\u001b[0m\u001b[0;34m\u001b[0m\u001b[0;34m\u001b[0m\u001b[0m\n",
      "\u001b[0;32m/opt/anaconda3/lib/python3.7/site-packages/skimage/io/_io.py\u001b[0m in \u001b[0;36mimread\u001b[0;34m(fname, as_gray, plugin, **plugin_args)\u001b[0m\n\u001b[1;32m     46\u001b[0m \u001b[0;34m\u001b[0m\u001b[0m\n\u001b[1;32m     47\u001b[0m     \u001b[0;32mwith\u001b[0m \u001b[0mfile_or_url_context\u001b[0m\u001b[0;34m(\u001b[0m\u001b[0mfname\u001b[0m\u001b[0;34m)\u001b[0m \u001b[0;32mas\u001b[0m \u001b[0mfname\u001b[0m\u001b[0;34m:\u001b[0m\u001b[0;34m\u001b[0m\u001b[0;34m\u001b[0m\u001b[0m\n\u001b[0;32m---> 48\u001b[0;31m         \u001b[0mimg\u001b[0m \u001b[0;34m=\u001b[0m \u001b[0mcall_plugin\u001b[0m\u001b[0;34m(\u001b[0m\u001b[0;34m'imread'\u001b[0m\u001b[0;34m,\u001b[0m \u001b[0mfname\u001b[0m\u001b[0;34m,\u001b[0m \u001b[0mplugin\u001b[0m\u001b[0;34m=\u001b[0m\u001b[0mplugin\u001b[0m\u001b[0;34m,\u001b[0m \u001b[0;34m**\u001b[0m\u001b[0mplugin_args\u001b[0m\u001b[0;34m)\u001b[0m\u001b[0;34m\u001b[0m\u001b[0;34m\u001b[0m\u001b[0m\n\u001b[0m\u001b[1;32m     49\u001b[0m \u001b[0;34m\u001b[0m\u001b[0m\n\u001b[1;32m     50\u001b[0m     \u001b[0;32mif\u001b[0m \u001b[0;32mnot\u001b[0m \u001b[0mhasattr\u001b[0m\u001b[0;34m(\u001b[0m\u001b[0mimg\u001b[0m\u001b[0;34m,\u001b[0m \u001b[0;34m'ndim'\u001b[0m\u001b[0;34m)\u001b[0m\u001b[0;34m:\u001b[0m\u001b[0;34m\u001b[0m\u001b[0;34m\u001b[0m\u001b[0m\n",
      "\u001b[0;32m/opt/anaconda3/lib/python3.7/site-packages/skimage/io/manage_plugins.py\u001b[0m in \u001b[0;36mcall_plugin\u001b[0;34m(kind, *args, **kwargs)\u001b[0m\n\u001b[1;32m    205\u001b[0m                                (plugin, kind))\n\u001b[1;32m    206\u001b[0m \u001b[0;34m\u001b[0m\u001b[0m\n\u001b[0;32m--> 207\u001b[0;31m     \u001b[0;32mreturn\u001b[0m \u001b[0mfunc\u001b[0m\u001b[0;34m(\u001b[0m\u001b[0;34m*\u001b[0m\u001b[0margs\u001b[0m\u001b[0;34m,\u001b[0m \u001b[0;34m**\u001b[0m\u001b[0mkwargs\u001b[0m\u001b[0;34m)\u001b[0m\u001b[0;34m\u001b[0m\u001b[0;34m\u001b[0m\u001b[0m\n\u001b[0m\u001b[1;32m    208\u001b[0m \u001b[0;34m\u001b[0m\u001b[0m\n\u001b[1;32m    209\u001b[0m \u001b[0;34m\u001b[0m\u001b[0m\n",
      "\u001b[0;32m/opt/anaconda3/lib/python3.7/site-packages/skimage/io/_plugins/imageio_plugin.py\u001b[0m in \u001b[0;36mimread\u001b[0;34m(*args, **kwargs)\u001b[0m\n\u001b[1;32m      8\u001b[0m \u001b[0;34m@\u001b[0m\u001b[0mwraps\u001b[0m\u001b[0;34m(\u001b[0m\u001b[0mimageio_imread\u001b[0m\u001b[0;34m)\u001b[0m\u001b[0;34m\u001b[0m\u001b[0;34m\u001b[0m\u001b[0m\n\u001b[1;32m      9\u001b[0m \u001b[0;32mdef\u001b[0m \u001b[0mimread\u001b[0m\u001b[0;34m(\u001b[0m\u001b[0;34m*\u001b[0m\u001b[0margs\u001b[0m\u001b[0;34m,\u001b[0m \u001b[0;34m**\u001b[0m\u001b[0mkwargs\u001b[0m\u001b[0;34m)\u001b[0m\u001b[0;34m:\u001b[0m\u001b[0;34m\u001b[0m\u001b[0;34m\u001b[0m\u001b[0m\n\u001b[0;32m---> 10\u001b[0;31m     \u001b[0;32mreturn\u001b[0m \u001b[0mnp\u001b[0m\u001b[0;34m.\u001b[0m\u001b[0masarray\u001b[0m\u001b[0;34m(\u001b[0m\u001b[0mimageio_imread\u001b[0m\u001b[0;34m(\u001b[0m\u001b[0;34m*\u001b[0m\u001b[0margs\u001b[0m\u001b[0;34m,\u001b[0m \u001b[0;34m**\u001b[0m\u001b[0mkwargs\u001b[0m\u001b[0;34m)\u001b[0m\u001b[0;34m)\u001b[0m\u001b[0;34m\u001b[0m\u001b[0;34m\u001b[0m\u001b[0m\n\u001b[0m",
      "\u001b[0;32m/opt/anaconda3/lib/python3.7/site-packages/imageio/core/functions.py\u001b[0m in \u001b[0;36mimread\u001b[0;34m(uri, format, **kwargs)\u001b[0m\n\u001b[1;32m    263\u001b[0m \u001b[0;34m\u001b[0m\u001b[0m\n\u001b[1;32m    264\u001b[0m     \u001b[0;31m# Get reader and read first\u001b[0m\u001b[0;34m\u001b[0m\u001b[0;34m\u001b[0m\u001b[0;34m\u001b[0m\u001b[0m\n\u001b[0;32m--> 265\u001b[0;31m     \u001b[0mreader\u001b[0m \u001b[0;34m=\u001b[0m \u001b[0mread\u001b[0m\u001b[0;34m(\u001b[0m\u001b[0muri\u001b[0m\u001b[0;34m,\u001b[0m \u001b[0mformat\u001b[0m\u001b[0;34m,\u001b[0m \u001b[0;34m\"i\"\u001b[0m\u001b[0;34m,\u001b[0m \u001b[0;34m**\u001b[0m\u001b[0mkwargs\u001b[0m\u001b[0;34m)\u001b[0m\u001b[0;34m\u001b[0m\u001b[0;34m\u001b[0m\u001b[0m\n\u001b[0m\u001b[1;32m    266\u001b[0m     \u001b[0;32mwith\u001b[0m \u001b[0mreader\u001b[0m\u001b[0;34m:\u001b[0m\u001b[0;34m\u001b[0m\u001b[0;34m\u001b[0m\u001b[0m\n\u001b[1;32m    267\u001b[0m         \u001b[0;32mreturn\u001b[0m \u001b[0mreader\u001b[0m\u001b[0;34m.\u001b[0m\u001b[0mget_data\u001b[0m\u001b[0;34m(\u001b[0m\u001b[0;36m0\u001b[0m\u001b[0;34m)\u001b[0m\u001b[0;34m\u001b[0m\u001b[0;34m\u001b[0m\u001b[0m\n",
      "\u001b[0;32m/opt/anaconda3/lib/python3.7/site-packages/imageio/core/functions.py\u001b[0m in \u001b[0;36mget_reader\u001b[0;34m(uri, format, mode, **kwargs)\u001b[0m\n\u001b[1;32m    170\u001b[0m \u001b[0;34m\u001b[0m\u001b[0m\n\u001b[1;32m    171\u001b[0m     \u001b[0;31m# Create request object\u001b[0m\u001b[0;34m\u001b[0m\u001b[0;34m\u001b[0m\u001b[0;34m\u001b[0m\u001b[0m\n\u001b[0;32m--> 172\u001b[0;31m     \u001b[0mrequest\u001b[0m \u001b[0;34m=\u001b[0m \u001b[0mRequest\u001b[0m\u001b[0;34m(\u001b[0m\u001b[0muri\u001b[0m\u001b[0;34m,\u001b[0m \u001b[0;34m\"r\"\u001b[0m \u001b[0;34m+\u001b[0m \u001b[0mmode\u001b[0m\u001b[0;34m,\u001b[0m \u001b[0;34m**\u001b[0m\u001b[0mkwargs\u001b[0m\u001b[0;34m)\u001b[0m\u001b[0;34m\u001b[0m\u001b[0;34m\u001b[0m\u001b[0m\n\u001b[0m\u001b[1;32m    173\u001b[0m \u001b[0;34m\u001b[0m\u001b[0m\n\u001b[1;32m    174\u001b[0m     \u001b[0;31m# Get format\u001b[0m\u001b[0;34m\u001b[0m\u001b[0;34m\u001b[0m\u001b[0;34m\u001b[0m\u001b[0m\n",
      "\u001b[0;32m/opt/anaconda3/lib/python3.7/site-packages/imageio/core/request.py\u001b[0m in \u001b[0;36m__init__\u001b[0;34m(self, uri, mode, **kwargs)\u001b[0m\n\u001b[1;32m    122\u001b[0m \u001b[0;34m\u001b[0m\u001b[0m\n\u001b[1;32m    123\u001b[0m         \u001b[0;31m# Parse what was given\u001b[0m\u001b[0;34m\u001b[0m\u001b[0;34m\u001b[0m\u001b[0;34m\u001b[0m\u001b[0m\n\u001b[0;32m--> 124\u001b[0;31m         \u001b[0mself\u001b[0m\u001b[0;34m.\u001b[0m\u001b[0m_parse_uri\u001b[0m\u001b[0;34m(\u001b[0m\u001b[0muri\u001b[0m\u001b[0;34m)\u001b[0m\u001b[0;34m\u001b[0m\u001b[0;34m\u001b[0m\u001b[0m\n\u001b[0m\u001b[1;32m    125\u001b[0m \u001b[0;34m\u001b[0m\u001b[0m\n\u001b[1;32m    126\u001b[0m         \u001b[0;31m# Set extension\u001b[0m\u001b[0;34m\u001b[0m\u001b[0;34m\u001b[0m\u001b[0;34m\u001b[0m\u001b[0m\n",
      "\u001b[0;32m/opt/anaconda3/lib/python3.7/site-packages/imageio/core/request.py\u001b[0m in \u001b[0;36m_parse_uri\u001b[0;34m(self, uri)\u001b[0m\n\u001b[1;32m    258\u001b[0m                 \u001b[0;31m# Reading: check that the file exists (but is allowed a dir)\u001b[0m\u001b[0;34m\u001b[0m\u001b[0;34m\u001b[0m\u001b[0;34m\u001b[0m\u001b[0m\n\u001b[1;32m    259\u001b[0m                 \u001b[0;32mif\u001b[0m \u001b[0;32mnot\u001b[0m \u001b[0mos\u001b[0m\u001b[0;34m.\u001b[0m\u001b[0mpath\u001b[0m\u001b[0;34m.\u001b[0m\u001b[0mexists\u001b[0m\u001b[0;34m(\u001b[0m\u001b[0mfn\u001b[0m\u001b[0;34m)\u001b[0m\u001b[0;34m:\u001b[0m\u001b[0;34m\u001b[0m\u001b[0;34m\u001b[0m\u001b[0m\n\u001b[0;32m--> 260\u001b[0;31m                     \u001b[0;32mraise\u001b[0m \u001b[0mFileNotFoundError\u001b[0m\u001b[0;34m(\u001b[0m\u001b[0;34m\"No such file: '%s'\"\u001b[0m \u001b[0;34m%\u001b[0m \u001b[0mfn\u001b[0m\u001b[0;34m)\u001b[0m\u001b[0;34m\u001b[0m\u001b[0;34m\u001b[0m\u001b[0m\n\u001b[0m\u001b[1;32m    261\u001b[0m             \u001b[0;32melse\u001b[0m\u001b[0;34m:\u001b[0m\u001b[0;34m\u001b[0m\u001b[0;34m\u001b[0m\u001b[0m\n\u001b[1;32m    262\u001b[0m                 \u001b[0;31m# Writing: check that the directory to write to does exist\u001b[0m\u001b[0;34m\u001b[0m\u001b[0;34m\u001b[0m\u001b[0;34m\u001b[0m\u001b[0m\n",
      "\u001b[0;31mFileNotFoundError\u001b[0m: No such file: '/Users/andrewmacpherson/development/GitHub/ALPR/Image Parsing/images/0d877fcf8137cfc5.jpg'"
     ]
    }
   ],
   "source": [
    "image = imread(image, as_gray=True)\n",
    "fig, ax1 = plt.subplots(1)\n",
    "ax1.imshow(image, cmap=\"gray\")\n",
    "plt.show()"
   ]
  },
  {
   "cell_type": "markdown",
   "id": "45958a9f",
   "metadata": {},
   "source": [
    "<h2>Isolate Image</h2>"
   ]
  },
  {
   "cell_type": "code",
   "execution_count": null,
   "id": "6de9ea29",
   "metadata": {},
   "outputs": [],
   "source": [
    "# Read labels\n",
    "f = open(label, \"r\")\n",
    "text = f.read()\n",
    "# Isolate coordinates\n",
    "text = text[2:]\n",
    "\n",
    "#relative x-center, relative y-center, width, height \n",
    "coords = text.split()\n",
    "\n",
    "rel_x_center = float(coords[0])\n",
    "rel_y_center = float(coords[1])\n",
    "rel_width = float(coords[2])\n",
    "rel_height = float(coords[3])\n",
    "\n",
    "# Get image dimensions\n",
    "image_height = image.shape[0]\n",
    "image_width = image.shape[1]\n",
    "\n",
    "#Convert relative values [0, 1] to defined pixel positions\n",
    "plate_center_x = image_width * rel_x_center\n",
    "plate_center_y = image_height * rel_y_center\n",
    "plate_width = image_width * rel_width\n",
    "plate_height = image_height * rel_height\n",
    "\n",
    "x_offset = plate_width / 2\n",
    "y_offset = plate_height / 2\n",
    "\n",
    "#Get plate coordinates\n",
    "x_min = int(plate_center_x - x_offset)\n",
    "x_max = int(plate_center_x + x_offset)\n",
    "\n",
    "y_min = int(plate_center_y - y_offset)\n",
    "y_max = int(plate_center_y + y_offset)\n",
    "\n",
    "cropped_image = image[y_min:y_max, x_min:x_max]\n",
    "\n",
    "fig, ax1 = plt.subplots(1)\n",
    "ax1.imshow(cropped_image, cmap=\"gray\")\n",
    "plt.show()"
   ]
  },
  {
   "cell_type": "markdown",
   "id": "b377534d",
   "metadata": {},
   "source": [
    "<h2>Convert to Binary</h2>"
   ]
  },
  {
   "cell_type": "code",
   "execution_count": null,
   "id": "a12ce408",
   "metadata": {},
   "outputs": [],
   "source": [
    "# Define threshold for maximizing variance\n",
    "threshold_value = threshold_otsu(cropped_image)\n",
    "\n",
    "# Show binary (thresholded) version of image\n",
    "binary_image = cropped_image > threshold_value\n",
    "\n",
    "fig, ax1 = plt.subplots(1)\n",
    "ax1.imshow(binary_image, cmap=\"gray\")\n",
    "plt.show()"
   ]
  },
  {
   "cell_type": "code",
   "execution_count": null,
   "id": "215dabb3",
   "metadata": {},
   "outputs": [],
   "source": [
    "# Determine if inversion is necessary to standardize plates\n",
    "\n",
    "# Count the number of white (1) and black (0) pixels\n",
    "white_pixels = np.sum(binary_image)  # Sum of 1s\n",
    "black_pixels = binary_image.size - white_pixels  # Total pixels - white pixels\n",
    "\n",
    "# If there are more white pixels than black, assume black text on white background\n",
    "if white_pixels > black_pixels:\n",
    "    print(\"Invert\")\n",
    "    #Invert\n",
    "    updated_plate = np.invert(binary_image)\n",
    "else:\n",
    "    updated_plate = binary_image\n",
    "    print(\"Don't invert\")\n",
    "\n",
    "# Display updated plate\n",
    "fig, ax1 = plt.subplots(1)\n",
    "ax1.imshow(updated_plate, cmap=\"gray\")\n",
    "plt.show()"
   ]
  },
  {
   "cell_type": "code",
   "execution_count": null,
   "id": "911ce3f6",
   "metadata": {},
   "outputs": [],
   "source": [
    "# Label connected regions\n",
    "labeled_plate = measure.label(updated_plate)\n",
    "\n",
    "# Display labeled plate\n",
    "fig, ax1 = plt.subplots(1)\n",
    "ax1.imshow(labeled_plate, cmap=\"gray\")\n",
    "plt.show()"
   ]
  },
  {
   "cell_type": "code",
   "execution_count": null,
   "id": "94ea7b10",
   "metadata": {},
   "outputs": [],
   "source": [
    "# Define constraints - each corresponds to relative percentage (ex. 10% of image width)\n",
    "MIN_REL_LP_HEIGHT = 0.15\n",
    "MAX_REL_LP_HEIGHT = 0.80\n",
    "MIN_REL_LP_WIDTH = 0.04\n",
    "MAX_REL_LP_WIDTH = 0.30\n",
    "\n",
    "# Define constraint variables\n",
    "min_char_height = plate_height * MIN_REL_LP_HEIGHT\n",
    "max_char_height = plate_height * MAX_REL_LP_HEIGHT\n",
    "min_char_width = plate_width * MIN_REL_LP_WIDTH\n",
    "max_char_width = plate_width * MAX_REL_LP_WIDTH"
   ]
  },
  {
   "cell_type": "code",
   "execution_count": null,
   "id": "f458286e",
   "metadata": {},
   "outputs": [],
   "source": [
    "# Store recognized characters\n",
    "characters = []\n",
    "char_data = []\n",
    "\n",
    "# Create image\n",
    "fig, ax1 = plt.subplots(1)\n",
    "ax1.imshow(labeled_plate, cmap=\"gray\")\n",
    "\n",
    "# Get regions within the license plate\n",
    "for regions in regionprops(labeled_plate):\n",
    "    # Define region boundary coordinates\n",
    "    y0, x0, y1, x1 = regions.bbox\n",
    "    region_height = y1 - y0\n",
    "    region_width = x1 - x0\n",
    "    \n",
    "    # Check if region meets contraints (possible characters)\n",
    "    if (\n",
    "        region_height > min_char_height and\n",
    "        region_height < max_char_height and\n",
    "        region_width > min_char_width and\n",
    "        region_width < max_char_width\n",
    "    ):\n",
    "        # Define region and outline\n",
    "        roi = updated_plate[y0:y1, x0:x1]\n",
    "        rect_border = patches.Rectangle((x0, y0), x1-x0, y1-y0, edgecolor=\"red\", linewidth=2, fill=False)\n",
    "        ax1.add_patch(rect_border)\n",
    "        \n",
    "        # Resize and append to array\n",
    "        resized_char = resize(roi, (20, 20))\n",
    "        characters.append(resized_char)\n",
    "        \n",
    "        # Store area for later filtering and x0 for unique ID\n",
    "        char_area = region_height * region_width\n",
    "        char_data.append((char_area, x0))\n",
    "        \n",
    "    else:\n",
    "        # Distinguish non-candidate regions\n",
    "        rect_border = patches.Rectangle((x0, y0), x1-x0, y1-y0, edgecolor=\"blue\", linewidth=1, fill=False)\n",
    "        ax1.add_patch(rect_border)\n",
    "        \n",
    "        \n",
    "plt.show()"
   ]
  },
  {
   "cell_type": "code",
   "execution_count": null,
   "id": "522f73c1",
   "metadata": {},
   "outputs": [],
   "source": [
    "# Get median area and limit size variance for characters to prevent wrongly-sized candidates from being included\n",
    "\n",
    "# Create array of just areas (tuple 0)\n",
    "char_areas = np.array([t[0] for t in char_data])\n",
    "# Get median of areas\n",
    "area_median = np.median(char_areas)\n",
    "\n",
    "# Set parameters\n",
    "minus_allowed = .10\n",
    "plus_allowed = .15\n",
    "max_allowed = area_median * (1 + plus_allowed)\n",
    "min_allowed = area_median * (1 - minus_allowed)\n",
    "\n",
    "# Print summary statistics\n",
    "print(\"Areas:\", char_areas)\n",
    "print(\"Median:\", area_median)\n",
    "print(\"Allowed Range:\", min_allowed, \"-\", max_allowed, '\\n')\n",
    "        \n",
    "# Create placeholder array\n",
    "filtered_characters = []\n",
    "\n",
    "# Filter both char_data and characters together by mapping with zip\n",
    "for candidate, character in zip(char_data, characters):\n",
    "    candidate_area = candidate[0]\n",
    "    if min_allowed < candidate_area < max_allowed:\n",
    "        print(candidate_area, \"\\tAllowed\")\n",
    "        filtered_characters.append(character)\n",
    "    else:\n",
    "        print(candidate_area, \"\\tExcluded\")"
   ]
  },
  {
   "cell_type": "code",
   "execution_count": null,
   "id": "e6f3d604",
   "metadata": {},
   "outputs": [],
   "source": [
    "# Remove non-character candidates by only getting 6 best matches\n",
    "\n",
    "print(characters[6])\n",
    "\n",
    "#for character in enumerate(characters):\n",
    "    #print(character)"
   ]
  },
  {
   "cell_type": "code",
   "execution_count": null,
   "id": "a1e7389d",
   "metadata": {},
   "outputs": [],
   "source": [
    "for i, character in enumerate(filtered_characters):\n",
    "    fig, ax1 = plt.subplots(1)\n",
    "    ax1.imshow(character, cmap=\"gray\")"
   ]
  },
  {
   "cell_type": "code",
   "execution_count": null,
   "id": "24d69ab7",
   "metadata": {
    "scrolled": true
   },
   "outputs": [],
   "source": [
    "for i, character in enumerate(filtered_characters):\n",
    "    # Convert to PIL image\n",
    "    img = Image.fromarray(characters[i].astype(np.uint8) * 255)  # Scale to 0 and 255 for black and white\n",
    "\n",
    "    # Save as PNG\n",
    "    img.save('exported_characters/' + str(i) + '_' + image_name + '.png')"
   ]
  }
 ],
 "metadata": {
  "kernelspec": {
   "display_name": "Python 3 (ipykernel)",
   "language": "python",
   "name": "python3"
  },
  "language_info": {
   "codemirror_mode": {
    "name": "ipython",
    "version": 3
   },
   "file_extension": ".py",
   "mimetype": "text/x-python",
   "name": "python",
   "nbconvert_exporter": "python",
   "pygments_lexer": "ipython3",
   "version": "3.7.11"
  }
 },
 "nbformat": 4,
 "nbformat_minor": 5
}
